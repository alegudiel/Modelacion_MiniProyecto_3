{
 "cells": [
  {
   "cell_type": "markdown",
   "metadata": {},
   "source": [
    "# Miniproyecto 3    \n",
    "* Ale Gudiel\n",
    "* Diego Alvarez"
   ]
  },
  {
   "cell_type": "markdown",
   "metadata": {},
   "source": [
    "## Ejercicio 3: Valor Presente Neto\n",
    "https://relopezbriega.github.io/blog/2015/08/28/introduccion-a-finanzas-con-python/"
   ]
  },
  {
   "cell_type": "code",
   "execution_count": 1,
   "metadata": {},
   "outputs": [],
   "source": [
    "from random import random\n",
    "import numpy as np\n",
    "import numpy_financial as npf\n",
    "import matplotlib.pyplot as plt\n",
    "\n",
    "proyectoH = [(-800, 50),(-800, 100),(-700, 150),(300, 200),(400, 200),(500, 200),]\n",
    "proyectoC = [(-600, 50),(-200, 50),(-600, 100),(250, 150),(350, 150),(400, 150)\n",
    "]"
   ]
  },
  {
   "cell_type": "code",
   "execution_count": 2,
   "metadata": {},
   "outputs": [],
   "source": [
    "def normalNum(mean, std):\n",
    "    return np.random.normal(mean, std)\n",
    "\n",
    "def uniformNum(mean, std):\n",
    "    return np.random.uniform(mean, std)\n",
    "\n",
    "def calcNPV(initVals, project, low, high):\n",
    "    list = []\n",
    "    for i in project:\n",
    "        list.append(normalNum(i[0], i[1]))\n",
    "    list.append(uniformNum(low, high))\n",
    "    return list\n",
    "\n",
    "def meanCalc(list):\n",
    "    return np.mean(list)\n",
    "\n",
    "def stdCalc(list):\n",
    "    return np.std(list)"
   ]
  },
  {
   "cell_type": "markdown",
   "metadata": {},
   "source": [
    "### Simulamos para el hotel"
   ]
  },
  {
   "cell_type": "code",
   "execution_count": 25,
   "metadata": {},
   "outputs": [],
   "source": [
    "iters = int(input(\"Ingrese el número de iteraciones: \"))\n",
    "npvHotel = []\n",
    "for i in range(iters):\n",
    "    hotelSimulation = calcNPV(-800, proyectoH, 2000, 8440)\n",
    "    npvHotel.append(npf.npv(0.1, hotelSimulation))\n",
    "\n",
    "npvMeanHotel = round(meanCalc(npvHotel), 2)\n",
    "npvStdHotel = round(stdCalc(npvHotel), 2)\n"
   ]
  },
  {
   "cell_type": "code",
   "execution_count": 26,
   "metadata": {},
   "outputs": [
    {
     "name": "stdout",
     "output_type": "stream",
     "text": [
      "Resultados del proyecto Hotel usando  10000  iteraciones\n",
      "El valor esperado del proyecto hotelero es:  1640.86\n",
      "La desviación estándar del proyecto hotelero es:  1082.34\n"
     ]
    }
   ],
   "source": [
    "print(\"Resultados del proyecto Hotel usando \", iters, \" iteraciones\")\n",
    "print(\"El valor esperado del proyecto hotelero es: \", npvMeanHotel)\n",
    "print(\"La desviación estándar del proyecto hotelero es: \", npvStdHotel)"
   ]
  },
  {
   "cell_type": "markdown",
   "metadata": {},
   "source": [
    "### Simulamos para el comercial"
   ]
  },
  {
   "cell_type": "code",
   "execution_count": 24,
   "metadata": {},
   "outputs": [],
   "source": [
    "iters = int(input(\"Ingrese el número de iteraciones: \"))\n",
    "npvMall = []\n",
    "for i in range(iters):\n",
    "    mallSimulation = calcNPV(-900, proyectoC, 1600, 6000)\n",
    "    npvMall.append(npf.npv(0.1, mallSimulation))\n",
    "    npvMeanMall = round(meanCalc(npvMall), 2)\n",
    "    npvStdMall = round(stdCalc(npvMall), 2)\n"
   ]
  },
  {
   "cell_type": "code",
   "execution_count": 27,
   "metadata": {},
   "outputs": [
    {
     "name": "stdout",
     "output_type": "stream",
     "text": [
      "Resultados del proyecto Centro Comercial usando  10000  iteraciones\n",
      "El valor esperado del proyecto CC es:  1545.99\n",
      "La desviación estándar del proyecto CC es:  744.07\n"
     ]
    }
   ],
   "source": [
    "print(\"Resultados del proyecto Centro Comercial usando \", iters, \" iteraciones\")\n",
    "print(\"El valor esperado del proyecto CC es: \", npvMeanMall)\n",
    "print(\"La desviación estándar del proyecto CC es: \", npvStdMall)"
   ]
  }
 ],
 "metadata": {
  "kernelspec": {
   "display_name": "Python 3.9.4 64-bit",
   "language": "python",
   "name": "python3"
  },
  "language_info": {
   "codemirror_mode": {
    "name": "ipython",
    "version": 3
   },
   "file_extension": ".py",
   "mimetype": "text/x-python",
   "name": "python",
   "nbconvert_exporter": "python",
   "pygments_lexer": "ipython3",
   "version": "3.9.4"
  },
  "orig_nbformat": 4,
  "vscode": {
   "interpreter": {
    "hash": "7812ea015bdcee6f23a998adcdd2ef97c151c0c241b7b7070987d9313e41299d"
   }
  }
 },
 "nbformat": 4,
 "nbformat_minor": 2
}
